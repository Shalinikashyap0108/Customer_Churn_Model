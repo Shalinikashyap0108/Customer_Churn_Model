{
 "cells": [
  {
   "cell_type": "code",
   "execution_count": 2,
   "id": "47746a91-0c38-4644-916c-abf3d9fa3b5b",
   "metadata": {},
   "outputs": [
    {
     "name": "stderr",
     "output_type": "stream",
     "text": [
      "C:\\Users\\shali\\AppData\\Local\\Temp\\ipykernel_14528\\3187528235.py:25: UserWarning: pandas only supports SQLAlchemy connectable (engine/connection) or database string URI or sqlite3 DBAPI2 connection. Other DBAPI2 objects are not tested. Please consider using SQLAlchemy.\n",
      "  df = pd.read_sql(query, conn)\n"
     ]
    },
    {
     "name": "stdout",
     "output_type": "stream",
     "text": [
      "   customer_id  gender  age  tenure  balance  products_number  \\\n",
      "0            1  Female   37       3  82499.0                3   \n",
      "1            2  Female   21       1  95444.1                3   \n",
      "2            3    Male   38       1  99737.2                4   \n",
      "3            4    Male   52       3  31333.5                3   \n",
      "4            5    Male   41       1  99491.5                3   \n",
      "\n",
      "   has_credit_card  is_active_member  estimated_salary  churn  \n",
      "0                0                 0           39730.9      1  \n",
      "1                1                 1           91994.0      0  \n",
      "2                0                 0          103673.0      0  \n",
      "3                1                 0          133584.0      0  \n",
      "4                1                 0           70588.8      0  \n",
      "<class 'pandas.core.frame.DataFrame'>\n",
      "RangeIndex: 500 entries, 0 to 499\n",
      "Data columns (total 10 columns):\n",
      " #   Column            Non-Null Count  Dtype  \n",
      "---  ------            --------------  -----  \n",
      " 0   customer_id       500 non-null    int64  \n",
      " 1   gender            500 non-null    object \n",
      " 2   age               500 non-null    int64  \n",
      " 3   tenure            500 non-null    int64  \n",
      " 4   balance           500 non-null    float64\n",
      " 5   products_number   500 non-null    int64  \n",
      " 6   has_credit_card   500 non-null    int64  \n",
      " 7   is_active_member  500 non-null    int64  \n",
      " 8   estimated_salary  500 non-null    float64\n",
      " 9   churn             500 non-null    int64  \n",
      "dtypes: float64(2), int64(7), object(1)\n",
      "memory usage: 39.2+ KB\n",
      "None\n"
     ]
    },
    {
     "data": {
      "image/png": "[encoded data removed]",
      "text/plain": [
       "<Figure size 640x480 with 1 Axes>"
      ]
     },
     "metadata": {},
     "output_type": "display_data"
    },
    {
     "data": {
      "image/png": "[encoded data removed]",
      "text/plain": [
       "<Figure size 640x480 with 1 Axes>"
      ]
     },
     "metadata": {},
     "output_type": "display_data"
    },
    {
     "name": "stdout",
     "output_type": "stream",
     "text": [
      "              precision    recall  f1-score   support\n",
      "\n",
      "           0       0.64      0.38      0.47        61\n",
      "           1       0.41      0.67      0.50        39\n",
      "\n",
      "    accuracy                           0.49       100\n",
      "   macro avg       0.52      0.52      0.49       100\n",
      "weighted avg       0.55      0.49      0.49       100\n",
      "\n",
      "[[23 38]\n",
      " [13 26]]\n",
      "✅ Model saved as model.pkl\n"
     ]
    }
   ],
   "source": [
    "# churn_analysis.py\n",
    "\n",
    "import pandas as pd\n",
    "import numpy as np\n",
    "import seaborn as sns\n",
    "import matplotlib.pyplot as plt\n",
    "import mysql.connector\n",
    "from sklearn.model_selection import train_test_split\n",
    "from sklearn.preprocessing import StandardScaler\n",
    "from sklearn.linear_model import LogisticRegression\n",
    "from sklearn.metrics import classification_report, confusion_matrix\n",
    "import pickle\n",
    "\n",
    "# -------------------\n",
    "# 1. Connect to MySQL\n",
    "# -------------------\n",
    "conn = mysql.connector.connect(\n",
    "    host=\"localhost\",\n",
    "    user=\"root\",\n",
    "    password=\"12345\",\n",
    "    database=\"churn_db\"\n",
    ")\n",
    "\n",
    "query = \"SELECT * FROM customers;\"\n",
    "df = pd.read_sql(query, conn)\n",
    "conn.close()\n",
    "\n",
    "print(df.head())\n",
    "print(df.info())\n",
    "\n",
    "# -------------------\n",
    "# 2. Data Cleaning\n",
    "# -------------------\n",
    "df.dropna(inplace=True)\n",
    "df['gender'] = df['gender'].map({'Male': 1, 'Female': 0})\n",
    "\n",
    "# -------------------\n",
    "# 3. EDA\n",
    "# -------------------\n",
    "sns.countplot(x='churn', data=df)\n",
    "plt.title(\"Churn Distribution\")\n",
    "plt.show()\n",
    "\n",
    "sns.boxplot(x='churn', y='balance', data=df)\n",
    "plt.title(\"Balance vs Churn\")\n",
    "plt.show()\n",
    "\n",
    "# -------------------\n",
    "# 4. Feature Engineering\n",
    "# -------------------\n",
    "X = df[['gender', 'age', 'tenure', 'balance', 'products_number', 'has_credit_card', 'is_active_member', 'estimated_salary']]\n",
    "y = df['churn']\n",
    "\n",
    "scaler = StandardScaler()\n",
    "X_scaled = scaler.fit_transform(X)\n",
    "\n",
    "# -------------------\n",
    "# 5. Train Model\n",
    "# -------------------\n",
    "X_train, X_test, y_train, y_test = train_test_split(X_scaled, y, test_size=0.2, random_state=42)\n",
    "model = LogisticRegression()\n",
    "model.fit(X_train, y_train)\n",
    "\n",
    "# -------------------\n",
    "# 6. Evaluate\n",
    "# -------------------\n",
    "y_pred = model.predict(X_test)\n",
    "print(classification_report(y_test, y_pred))\n",
    "print(confusion_matrix(y_test, y_pred))\n",
    "\n",
    "# -------------------\n",
    "# 7. Save Model\n",
    "# -------------------\n",
    "with open(\"model.pkl\", \"wb\") as f:\n",
    "    pickle.dump((model, scaler), f)\n",
    "\n",
    "print(\"✅ Model saved as model.pkl\")\n"
   ]
  },
  {
   "cell_type": "code",
   "execution_count": null,
   "id": "09b0e465-a309-4936-b625-3e75801348dd",
   "metadata": {},
   "outputs": [],
   "source": []
  }
 ],
 "metadata": {
  "kernelspec": {
   "display_name": "Python 3 (ipykernel)",
   "language": "python",
   "name": "python3"
  },
  "language_info": {
   "codemirror_mode": {
    "name": "ipython",
    "version": 3
   },
   "file_extension": ".py",
   "mimetype": "text/x-python",
   "name": "python",
   "nbconvert_exporter": "python",
   "pygments_lexer": "ipython3",
   "version": "3.12.7"
  }
 },
 "nbformat": 4,
 "nbformat_minor": 5
}
